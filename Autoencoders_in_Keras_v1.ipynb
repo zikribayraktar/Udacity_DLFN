{
  "nbformat": 4,
  "nbformat_minor": 0,
  "metadata": {
    "colab": {
      "name": "Autoencoders_in_Keras_v1",
      "version": "0.3.2",
      "provenance": [],
      "collapsed_sections": []
    },
    "kernelspec": {
      "name": "python3",
      "display_name": "Python 3"
    },
    "accelerator": "GPU"
  },
  "cells": [
    {
      "metadata": {
        "id": "G1uQuthDHQwF",
        "colab_type": "text"
      },
      "cell_type": "markdown",
      "source": [
        "# **Autoencoders in Keras using Fashion_MNIST on Google Colab**"
      ]
    },
    {
      "metadata": {
        "id": "6PSUA8wb4o6I",
        "colab_type": "text"
      },
      "cell_type": "markdown",
      "source": [
        "Original code from this blog using MNIST:\n",
        "https://blog.keras.io/building-autoencoders-in-keras.html"
      ]
    },
    {
      "metadata": {
        "id": "wBUZAU6E8Wi_",
        "colab_type": "code",
        "colab": {}
      },
      "cell_type": "code",
      "source": [
        "### USE THIS TO KILL THE VIRTUAL MACHINE BEFORE CLOSING THIS COLAB NOTEBOOK:\n",
        "\n",
        "!kill -9 -1"
      ],
      "execution_count": 0,
      "outputs": []
    },
    {
      "metadata": {
        "id": "Yh0PhDC7Vude",
        "colab_type": "code",
        "colab": {}
      },
      "cell_type": "code",
      "source": [
        "## Step 1: Mount Google Drive:\n",
        "\n",
        "from google.colab import drive\n",
        "drive.mount('/content/drive')"
      ],
      "execution_count": 0,
      "outputs": []
    },
    {
      "metadata": {
        "id": "pMxlzfNXErpx",
        "colab_type": "code",
        "colab": {}
      },
      "cell_type": "code",
      "source": [
        "## Step 2: change directory to where your notebooks are:\n",
        "\n",
        "import os\n",
        "cwd = os.getcwd()\n",
        "os.chdir(\"drive/My Drive/Colab Notebooks\")\n",
        "print(cwd)\n",
        "!ls -ltr"
      ],
      "execution_count": 0,
      "outputs": []
    },
    {
      "metadata": {
        "id": "QnZQPrCaFKjR",
        "colab_type": "code",
        "colab": {
          "base_uri": "https://localhost:8080/",
          "height": 35
        },
        "outputId": "8644f58a-f51a-407a-b783-fc5d0f21afd4"
      },
      "cell_type": "code",
      "source": [
        "# Import Numpy, TensorFlow, Keras and vectorized MNIST data\n",
        "import numpy as np\n",
        "from numpy import array\n",
        "import tensorflow as tf\n",
        "import keras\n",
        "import pandas as pd\n",
        "from sklearn.preprocessing import OneHotEncoder\n",
        "\n",
        "from keras.models import Sequential\n",
        "from keras.layers import Dense, Activation, Dropout, Flatten, Conv2D, MaxPooling2D\n",
        "from keras.optimizers import SGD, Adam\n",
        "from keras.utils import to_categorical\n",
        "\n",
        "# test BatchNormalization\n",
        "from keras.layers.normalization import BatchNormalization\n",
        "\n",
        "import matplotlib.pyplot as plt\n",
        "\n",
        "%matplotlib inline"
      ],
      "execution_count": 9,
      "outputs": [
        {
          "output_type": "stream",
          "text": [
            "Using TensorFlow backend.\n"
          ],
          "name": "stderr"
        }
      ]
    },
    {
      "metadata": {
        "id": "hO5Ffip7FSRm",
        "colab_type": "code",
        "colab": {
          "base_uri": "https://localhost:8080/",
          "height": 35
        },
        "outputId": "16bca97e-babb-4572-aa8d-08b23d8822ea"
      },
      "cell_type": "code",
      "source": [
        "# Test to see if we have access to GPU\n",
        "\n",
        "import tensorflow as tf\n",
        "tf.test.gpu_device_name()"
      ],
      "execution_count": 10,
      "outputs": [
        {
          "output_type": "execute_result",
          "data": {
            "text/plain": [
              "'/device:GPU:0'"
            ]
          },
          "metadata": {
            "tags": []
          },
          "execution_count": 10
        }
      ]
    },
    {
      "metadata": {
        "id": "mDJjo86PHeTw",
        "colab_type": "code",
        "colab": {}
      },
      "cell_type": "code",
      "source": [
        ""
      ],
      "execution_count": 0,
      "outputs": []
    },
    {
      "metadata": {
        "id": "B-ppceo_JObR",
        "colab_type": "text"
      },
      "cell_type": "markdown",
      "source": [
        "### 1. Lets Start with simple Feed-Forward NN as encoder/decoder"
      ]
    },
    {
      "metadata": {
        "id": "jBPdb4Sni2NW",
        "colab_type": "code",
        "colab": {}
      },
      "cell_type": "code",
      "source": [
        "from keras.layers import Input, Dense\n",
        "from keras.models import Model\n",
        "\n",
        "# this is the size of our encoded representations\n",
        "encoding_dim = 32  # 32 floats -> compression of factor 24.5, assuming the input is 784 floats\n",
        "\n",
        "# this is our input placeholder\n",
        "input_img = Input(shape=(784,))\n",
        "# \"encoded\" is the encoded representation of the input\n",
        "encoded = Dense(encoding_dim, activation='relu')(input_img)\n",
        "# \"decoded\" is the lossy reconstruction of the input\n",
        "decoded = Dense(784, activation='sigmoid')(encoded)\n",
        "\n",
        "# this model maps an input to its reconstruction\n",
        "autoencoder = Model(input_img, decoded)"
      ],
      "execution_count": 0,
      "outputs": []
    },
    {
      "metadata": {
        "id": "ERtTPpe2i2eu",
        "colab_type": "code",
        "colab": {}
      },
      "cell_type": "code",
      "source": [
        "# this model maps an input to its encoded representation\n",
        "encoder = Model(input_img, encoded)"
      ],
      "execution_count": 0,
      "outputs": []
    },
    {
      "metadata": {
        "id": "p9UtU9BRi2nc",
        "colab_type": "code",
        "colab": {}
      },
      "cell_type": "code",
      "source": [
        "# create a placeholder for an encoded (32-dimensional) input\n",
        "encoded_input = Input(shape=(encoding_dim,))\n",
        "# retrieve the last layer of the autoencoder model\n",
        "decoder_layer = autoencoder.layers[-1]\n",
        "# create the decoder model\n",
        "decoder = Model(encoded_input, decoder_layer(encoded_input))"
      ],
      "execution_count": 0,
      "outputs": []
    },
    {
      "metadata": {
        "id": "XU0K9PPa3E3P",
        "colab_type": "code",
        "colab": {}
      },
      "cell_type": "code",
      "source": [
        "# Now let's train our autoencoder to reconstruct MNIST digits.\n",
        "# First, we'll configure our model to use a per-pixel binary crossentropy loss, \n",
        "# and the Adadelta optimizer:\n",
        "autoencoder.compile(optimizer='adadelta', loss='binary_crossentropy')"
      ],
      "execution_count": 0,
      "outputs": []
    },
    {
      "metadata": {
        "id": "EQ7UskAl3FB5",
        "colab_type": "code",
        "colab": {
          "base_uri": "https://localhost:8080/",
          "height": 163
        },
        "outputId": "45826bbd-b7b6-4fda-8bd9-72c91dc83111"
      },
      "cell_type": "code",
      "source": [
        "from keras.datasets import mnist\n",
        "from keras.datasets import fashion_mnist\n",
        "import numpy as np\n",
        "#(x_train, _), (x_test, _) = mnist.load_data()\n",
        "(x_train, _), (x_test, _) = fashion_mnist.load_data()"
      ],
      "execution_count": 16,
      "outputs": [
        {
          "output_type": "stream",
          "text": [
            "Downloading data from http://fashion-mnist.s3-website.eu-central-1.amazonaws.com/train-labels-idx1-ubyte.gz\n",
            "32768/29515 [=================================] - 0s 0us/step\n",
            "Downloading data from http://fashion-mnist.s3-website.eu-central-1.amazonaws.com/train-images-idx3-ubyte.gz\n",
            "26427392/26421880 [==============================] - 1s 0us/step\n",
            "Downloading data from http://fashion-mnist.s3-website.eu-central-1.amazonaws.com/t10k-labels-idx1-ubyte.gz\n",
            "8192/5148 [===============================================] - 0s 0us/step\n",
            "Downloading data from http://fashion-mnist.s3-website.eu-central-1.amazonaws.com/t10k-images-idx3-ubyte.gz\n",
            "4423680/4422102 [==============================] - 0s 0us/step\n"
          ],
          "name": "stdout"
        }
      ]
    },
    {
      "metadata": {
        "id": "BOayRGhS3FJL",
        "colab_type": "code",
        "colab": {
          "base_uri": "https://localhost:8080/",
          "height": 54
        },
        "outputId": "a41bc0d2-9b9c-4c97-aeea-0ac7ca1d549f"
      },
      "cell_type": "code",
      "source": [
        "# We will normalize all values between 0 and 1 and we will flatten the 28x28 \n",
        "# images into vectors of size 784.\n",
        "\n",
        "x_train = x_train.astype('float32') / 255.\n",
        "x_test = x_test.astype('float32') / 255.\n",
        "x_train = x_train.reshape((len(x_train), np.prod(x_train.shape[1:])))\n",
        "x_test = x_test.reshape((len(x_test), np.prod(x_test.shape[1:])))\n",
        "print (x_train.shape)\n",
        "print (x_test.shape)"
      ],
      "execution_count": 17,
      "outputs": [
        {
          "output_type": "stream",
          "text": [
            "(60000, 784)\n",
            "(10000, 784)\n"
          ],
          "name": "stdout"
        }
      ]
    },
    {
      "metadata": {
        "id": "SRllUnYt3FND",
        "colab_type": "code",
        "colab": {
          "base_uri": "https://localhost:8080/",
          "height": 1145
        },
        "outputId": "6d541f2e-6cc4-4ff0-ad01-763765ec930e"
      },
      "cell_type": "code",
      "source": [
        "autoencoder.fit(x_train, x_train, \n",
        "                epochs=30,\n",
        "                batch_size=256,\n",
        "                shuffle=True,\n",
        "                validation_data=(x_test, x_test))"
      ],
      "execution_count": 21,
      "outputs": [
        {
          "output_type": "stream",
          "text": [
            "Train on 60000 samples, validate on 10000 samples\n",
            "Epoch 1/30\n",
            "60000/60000 [==============================] - 1s 25us/step - loss: 0.3238 - val_loss: 0.3242\n",
            "Epoch 2/30\n",
            "60000/60000 [==============================] - 2s 25us/step - loss: 0.3210 - val_loss: 0.3216\n",
            "Epoch 3/30\n",
            "60000/60000 [==============================] - 2s 25us/step - loss: 0.3185 - val_loss: 0.3193\n",
            "Epoch 4/30\n",
            "60000/60000 [==============================] - 2s 26us/step - loss: 0.3164 - val_loss: 0.3173\n",
            "Epoch 5/30\n",
            "60000/60000 [==============================] - 2s 26us/step - loss: 0.3145 - val_loss: 0.3156\n",
            "Epoch 6/30\n",
            "60000/60000 [==============================] - 2s 25us/step - loss: 0.3129 - val_loss: 0.3141\n",
            "Epoch 7/30\n",
            "60000/60000 [==============================] - 2s 26us/step - loss: 0.3114 - val_loss: 0.3127\n",
            "Epoch 8/30\n",
            "60000/60000 [==============================] - 2s 25us/step - loss: 0.3101 - val_loss: 0.3115\n",
            "Epoch 9/30\n",
            "60000/60000 [==============================] - 2s 26us/step - loss: 0.3090 - val_loss: 0.3104\n",
            "Epoch 10/30\n",
            "60000/60000 [==============================] - 2s 25us/step - loss: 0.3080 - val_loss: 0.3095\n",
            "Epoch 11/30\n",
            "60000/60000 [==============================] - 2s 26us/step - loss: 0.3070 - val_loss: 0.3086\n",
            "Epoch 12/30\n",
            "60000/60000 [==============================] - 2s 26us/step - loss: 0.3062 - val_loss: 0.3078\n",
            "Epoch 13/30\n",
            "60000/60000 [==============================] - 2s 26us/step - loss: 0.3054 - val_loss: 0.3070\n",
            "Epoch 14/30\n",
            "60000/60000 [==============================] - 2s 25us/step - loss: 0.3047 - val_loss: 0.3063\n",
            "Epoch 15/30\n",
            "60000/60000 [==============================] - 2s 26us/step - loss: 0.3040 - val_loss: 0.3058\n",
            "Epoch 16/30\n",
            "60000/60000 [==============================] - 2s 25us/step - loss: 0.3034 - val_loss: 0.3051\n",
            "Epoch 17/30\n",
            "60000/60000 [==============================] - 2s 26us/step - loss: 0.3028 - val_loss: 0.3046\n",
            "Epoch 18/30\n",
            "60000/60000 [==============================] - 2s 26us/step - loss: 0.3022 - val_loss: 0.3040\n",
            "Epoch 19/30\n",
            "60000/60000 [==============================] - 2s 26us/step - loss: 0.3017 - val_loss: 0.3035\n",
            "Epoch 20/30\n",
            "60000/60000 [==============================] - 2s 26us/step - loss: 0.3012 - val_loss: 0.3030\n",
            "Epoch 21/30\n",
            "60000/60000 [==============================] - 2s 25us/step - loss: 0.3007 - val_loss: 0.3025\n",
            "Epoch 22/30\n",
            "60000/60000 [==============================] - 2s 26us/step - loss: 0.3002 - val_loss: 0.3021\n",
            "Epoch 23/30\n",
            "60000/60000 [==============================] - 2s 25us/step - loss: 0.2998 - val_loss: 0.3016\n",
            "Epoch 24/30\n",
            "60000/60000 [==============================] - 2s 26us/step - loss: 0.2993 - val_loss: 0.3012\n",
            "Epoch 25/30\n",
            "60000/60000 [==============================] - 2s 26us/step - loss: 0.2989 - val_loss: 0.3008\n",
            "Epoch 26/30\n",
            "60000/60000 [==============================] - 2s 26us/step - loss: 0.2985 - val_loss: 0.3004\n",
            "Epoch 27/30\n",
            "60000/60000 [==============================] - 2s 26us/step - loss: 0.2981 - val_loss: 0.3000\n",
            "Epoch 28/30\n",
            "60000/60000 [==============================] - 2s 26us/step - loss: 0.2977 - val_loss: 0.2996\n",
            "Epoch 29/30\n",
            "60000/60000 [==============================] - 2s 26us/step - loss: 0.2974 - val_loss: 0.2993\n",
            "Epoch 30/30\n",
            "60000/60000 [==============================] - 2s 25us/step - loss: 0.2970 - val_loss: 0.2989\n"
          ],
          "name": "stdout"
        },
        {
          "output_type": "execute_result",
          "data": {
            "text/plain": [
              "<keras.callbacks.History at 0x7fa2f5f8c160>"
            ]
          },
          "metadata": {
            "tags": []
          },
          "execution_count": 21
        }
      ]
    },
    {
      "metadata": {
        "id": "obujnIg_8YBS",
        "colab_type": "code",
        "colab": {}
      },
      "cell_type": "code",
      "source": [
        "# encode and decode some digits\n",
        "# note that we take them from the *test* set\n",
        "encoded_imgs = encoder.predict(x_test)\n",
        "decoded_imgs = decoder.predict(encoded_imgs)"
      ],
      "execution_count": 0,
      "outputs": []
    },
    {
      "metadata": {
        "id": "QT-Rl1lx8YIM",
        "colab_type": "code",
        "colab": {
          "base_uri": "https://localhost:8080/",
          "height": 245
        },
        "outputId": "d6373629-b51b-4a01-9480-74d21a337e9c"
      },
      "cell_type": "code",
      "source": [
        "# use Matplotlib (don't ask)\n",
        "import matplotlib.pyplot as plt\n",
        "\n",
        "n = 10  # how many digits we will display\n",
        "plt.figure(figsize=(20, 4))\n",
        "for i in range(n):\n",
        "    # display original\n",
        "    ax = plt.subplot(2, n, i + 1)\n",
        "    plt.imshow(x_test[i].reshape(28, 28))\n",
        "    plt.gray()\n",
        "    ax.get_xaxis().set_visible(False)\n",
        "    ax.get_yaxis().set_visible(False)\n",
        "\n",
        "    # display reconstruction\n",
        "    ax = plt.subplot(2, n, i + 1 + n)\n",
        "    plt.imshow(decoded_imgs[i].reshape(28, 28))\n",
        "    plt.gray()\n",
        "    ax.get_xaxis().set_visible(False)\n",
        "    ax.get_yaxis().set_visible(False)\n",
        "plt.show()"
      ],
      "execution_count": 23,
      "outputs": [
        {
          "output_type": "display_data",
          "data": {
            "image/png": "[encoded data removed]",
            "text/plain": [
              "<matplotlib.figure.Figure at 0x7fa27baa8da0>"
            ]
          },
          "metadata": {
            "tags": []
          }
        }
      ]
    },
    {
      "metadata": {
        "id": "X9dGh7Gz8YLu",
        "colab_type": "code",
        "colab": {
          "base_uri": "https://localhost:8080/",
          "height": 217
        },
        "outputId": "342635b8-0838-4dc2-e862-de6905638bfb"
      },
      "cell_type": "code",
      "source": [
        "decoder.summary()"
      ],
      "execution_count": 24,
      "outputs": [
        {
          "output_type": "stream",
          "text": [
            "_________________________________________________________________\n",
            "Layer (type)                 Output Shape              Param #   \n",
            "=================================================================\n",
            "input_2 (InputLayer)         (None, 32)                0         \n",
            "_________________________________________________________________\n",
            "dense_2 (Dense)              (None, 784)               25872     \n",
            "=================================================================\n",
            "Total params: 25,872\n",
            "Trainable params: 25,872\n",
            "Non-trainable params: 0\n",
            "_________________________________________________________________\n"
          ],
          "name": "stdout"
        }
      ]
    },
    {
      "metadata": {
        "id": "L5KruWDPJIIE",
        "colab_type": "text"
      },
      "cell_type": "markdown",
      "source": [
        "### Adding a sparsity constraint on the encoded representations. Limit the number of neurons firing by regularizing the activity:"
      ]
    },
    {
      "metadata": {
        "id": "A1c0JVPJ8YO3",
        "colab_type": "code",
        "colab": {}
      },
      "cell_type": "code",
      "source": [
        "from keras import regularizers\n",
        "\n",
        "encoding_dim = 32\n",
        "\n",
        "input_img = Input(shape=(784,))\n",
        "# add a Dense layer with a L1 activity regularizer\n",
        "encoded = Dense(encoding_dim, activation='relu', activity_regularizer=regularizers.l1(10e-5))(input_img)\n",
        "decoded = Dense(784, activation='sigmoid')(encoded)\n",
        "\n",
        "autoencoder = Model(input_img, decoded)"
      ],
      "execution_count": 0,
      "outputs": []
    },
    {
      "metadata": {
        "id": "3GV9ISrWH2qj",
        "colab_type": "code",
        "colab": {}
      },
      "cell_type": "code",
      "source": [
        "# Now let's train our autoencoder to reconstruct MNIST digits.\n",
        "# First, we'll configure our model to use a per-pixel binary crossentropy loss, \n",
        "# and the Adadelta optimizer:\n",
        "autoencoder.compile(optimizer='adadelta', loss='binary_crossentropy')"
      ],
      "execution_count": 0,
      "outputs": []
    },
    {
      "metadata": {
        "id": "L89Wb02B8YRq",
        "colab_type": "code",
        "colab": {
          "base_uri": "https://localhost:8080/",
          "height": 1145
        },
        "outputId": "c093e62e-ed73-4084-c2ba-1eb177d5c9a7"
      },
      "cell_type": "code",
      "source": [
        "autoencoder.fit(x_train, x_train, \n",
        "                epochs=30,\n",
        "                batch_size=256,\n",
        "                shuffle=True,\n",
        "                validation_data=(x_test, x_test))"
      ],
      "execution_count": 27,
      "outputs": [
        {
          "output_type": "stream",
          "text": [
            "Train on 60000 samples, validate on 10000 samples\n",
            "Epoch 1/30\n",
            "60000/60000 [==============================] - 2s 29us/step - loss: 0.6839 - val_loss: 0.6704\n",
            "Epoch 2/30\n",
            "60000/60000 [==============================] - 2s 27us/step - loss: 0.6601 - val_loss: 0.6504\n",
            "Epoch 3/30\n",
            "60000/60000 [==============================] - 2s 27us/step - loss: 0.6415 - val_loss: 0.6331\n",
            "Epoch 4/30\n",
            "60000/60000 [==============================] - 2s 27us/step - loss: 0.6254 - val_loss: 0.6182\n",
            "Epoch 5/30\n",
            "60000/60000 [==============================] - 2s 27us/step - loss: 0.6114 - val_loss: 0.6053\n",
            "Epoch 6/30\n",
            "60000/60000 [==============================] - 2s 27us/step - loss: 0.5993 - val_loss: 0.5941\n",
            "Epoch 7/30\n",
            "60000/60000 [==============================] - 2s 27us/step - loss: 0.5888 - val_loss: 0.5843\n",
            "Epoch 8/30\n",
            "60000/60000 [==============================] - 2s 26us/step - loss: 0.5796 - val_loss: 0.5757\n",
            "Epoch 9/30\n",
            "60000/60000 [==============================] - 2s 27us/step - loss: 0.5715 - val_loss: 0.5682\n",
            "Epoch 10/30\n",
            "60000/60000 [==============================] - 2s 27us/step - loss: 0.5644 - val_loss: 0.5616\n",
            "Epoch 11/30\n",
            "60000/60000 [==============================] - 2s 27us/step - loss: 0.5582 - val_loss: 0.5557\n",
            "Epoch 12/30\n",
            "60000/60000 [==============================] - 2s 27us/step - loss: 0.5526 - val_loss: 0.5505\n",
            "Epoch 13/30\n",
            "60000/60000 [==============================] - 2s 27us/step - loss: 0.5477 - val_loss: 0.5459\n",
            "Epoch 14/30\n",
            "60000/60000 [==============================] - 2s 27us/step - loss: 0.5433 - val_loss: 0.5418\n",
            "Epoch 15/30\n",
            "60000/60000 [==============================] - 2s 27us/step - loss: 0.5394 - val_loss: 0.5381\n",
            "Epoch 16/30\n",
            "60000/60000 [==============================] - 2s 27us/step - loss: 0.5359 - val_loss: 0.5348\n",
            "Epoch 17/30\n",
            "60000/60000 [==============================] - 2s 27us/step - loss: 0.5327 - val_loss: 0.5318\n",
            "Epoch 18/30\n",
            "60000/60000 [==============================] - 2s 26us/step - loss: 0.5298 - val_loss: 0.5291\n",
            "Epoch 19/30\n",
            "60000/60000 [==============================] - 2s 26us/step - loss: 0.5273 - val_loss: 0.5266\n",
            "Epoch 20/30\n",
            "60000/60000 [==============================] - 2s 27us/step - loss: 0.5249 - val_loss: 0.5244\n",
            "Epoch 21/30\n",
            "60000/60000 [==============================] - 2s 27us/step - loss: 0.5228 - val_loss: 0.5224\n",
            "Epoch 22/30\n",
            "60000/60000 [==============================] - 2s 27us/step - loss: 0.5209 - val_loss: 0.5206\n",
            "Epoch 23/30\n",
            "60000/60000 [==============================] - 2s 27us/step - loss: 0.5191 - val_loss: 0.5189\n",
            "Epoch 24/30\n",
            "60000/60000 [==============================] - 2s 27us/step - loss: 0.5175 - val_loss: 0.5174\n",
            "Epoch 25/30\n",
            "60000/60000 [==============================] - 2s 27us/step - loss: 0.5160 - val_loss: 0.5160\n",
            "Epoch 26/30\n",
            "60000/60000 [==============================] - 2s 27us/step - loss: 0.5146 - val_loss: 0.5147\n",
            "Epoch 27/30\n",
            "60000/60000 [==============================] - 2s 27us/step - loss: 0.5134 - val_loss: 0.5135\n",
            "Epoch 28/30\n",
            "60000/60000 [==============================] - 2s 27us/step - loss: 0.5122 - val_loss: 0.5124\n",
            "Epoch 29/30\n",
            "60000/60000 [==============================] - 2s 27us/step - loss: 0.5111 - val_loss: 0.5113\n",
            "Epoch 30/30\n",
            "60000/60000 [==============================] - 2s 27us/step - loss: 0.5101 - val_loss: 0.5104\n"
          ],
          "name": "stdout"
        },
        {
          "output_type": "execute_result",
          "data": {
            "text/plain": [
              "<keras.callbacks.History at 0x7fa27fbffa58>"
            ]
          },
          "metadata": {
            "tags": []
          },
          "execution_count": 27
        }
      ]
    },
    {
      "metadata": {
        "id": "kz6oVoaY8YUd",
        "colab_type": "code",
        "colab": {}
      },
      "cell_type": "code",
      "source": [
        "# encode and decode some digits\n",
        "# note that we take them from the *test* set\n",
        "encoded_imgs = encoder.predict(x_test)\n",
        "decoded_imgs = decoder.predict(encoded_imgs)"
      ],
      "execution_count": 0,
      "outputs": []
    },
    {
      "metadata": {
        "id": "CFnTez_HIaey",
        "colab_type": "code",
        "colab": {
          "base_uri": "https://localhost:8080/",
          "height": 245
        },
        "outputId": "5b7b400a-d6b5-4185-d617-a722fb767bff"
      },
      "cell_type": "code",
      "source": [
        "# use Matplotlib (don't ask)\n",
        "import matplotlib.pyplot as plt\n",
        "\n",
        "n = 10  # how many digits we will display\n",
        "plt.figure(figsize=(20, 4))\n",
        "for i in range(n):\n",
        "    # display original\n",
        "    ax = plt.subplot(2, n, i + 1)\n",
        "    plt.imshow(x_test[i].reshape(28, 28))\n",
        "    plt.gray()\n",
        "    ax.get_xaxis().set_visible(False)\n",
        "    ax.get_yaxis().set_visible(False)\n",
        "\n",
        "    # display reconstruction\n",
        "    ax = plt.subplot(2, n, i + 1 + n)\n",
        "    plt.imshow(decoded_imgs[i].reshape(28, 28))\n",
        "    plt.gray()\n",
        "    ax.get_xaxis().set_visible(False)\n",
        "    ax.get_yaxis().set_visible(False)\n",
        "plt.show()"
      ],
      "execution_count": 29,
      "outputs": [
        {
          "output_type": "display_data",
          "data": {
            "image/png": "[encoded data removed]",
            "text/plain": [
              "<matplotlib.figure.Figure at 0x7fa27c29fcc0>"
            ]
          },
          "metadata": {
            "tags": []
          }
        }
      ]
    },
    {
      "metadata": {
        "id": "X90O8XXYJXk4",
        "colab_type": "text"
      },
      "cell_type": "markdown",
      "source": [
        "## 2. Deep autoencoders; many layer fully-connected NN"
      ]
    },
    {
      "metadata": {
        "id": "M7PqK8xEJWUF",
        "colab_type": "code",
        "colab": {}
      },
      "cell_type": "code",
      "source": [
        "# Lets increase the number of hidden layers:\n",
        "\n",
        "input_img = Input(shape=(784,))\n",
        "encoded = Dense(128, activation='relu')(input_img)\n",
        "encoded = Dense(64, activation='relu')(encoded)\n",
        "encoded = Dense(32, activation='relu')(encoded)\n",
        "\n",
        "decoded = Dense(64, activation='relu')(encoded)\n",
        "decoded = Dense(128, activation='relu')(decoded)\n",
        "decoded = Dense(784, activation='sigmoid')(decoded)"
      ],
      "execution_count": 0,
      "outputs": []
    },
    {
      "metadata": {
        "id": "_65xnQFjJWpL",
        "colab_type": "code",
        "colab": {
          "base_uri": "https://localhost:8080/",
          "height": 1145
        },
        "outputId": "f8ce1213-37be-479c-a1a3-2e8092a54b31"
      },
      "cell_type": "code",
      "source": [
        "autoencoder = Model(input_img, decoded)\n",
        "autoencoder.compile(optimizer='adadelta', loss='binary_crossentropy')\n",
        "\n",
        "autoencoder.fit(x_train, x_train,\n",
        "                epochs=30,\n",
        "                batch_size=256,\n",
        "                shuffle=True,\n",
        "                validation_data=(x_test, x_test))"
      ],
      "execution_count": 32,
      "outputs": [
        {
          "output_type": "stream",
          "text": [
            "Train on 60000 samples, validate on 10000 samples\n",
            "Epoch 1/30\n",
            "60000/60000 [==============================] - 3s 46us/step - loss: 0.3193 - val_loss: 0.3207\n",
            "Epoch 2/30\n",
            "60000/60000 [==============================] - 2s 39us/step - loss: 0.3181 - val_loss: 0.3175\n",
            "Epoch 3/30\n",
            "60000/60000 [==============================] - 2s 39us/step - loss: 0.3165 - val_loss: 0.3190\n",
            "Epoch 4/30\n",
            "60000/60000 [==============================] - 2s 39us/step - loss: 0.3154 - val_loss: 0.3174\n",
            "Epoch 5/30\n",
            "60000/60000 [==============================] - 2s 39us/step - loss: 0.3143 - val_loss: 0.3138\n",
            "Epoch 6/30\n",
            "60000/60000 [==============================] - 2s 39us/step - loss: 0.3130 - val_loss: 0.3185\n",
            "Epoch 7/30\n",
            "60000/60000 [==============================] - 2s 39us/step - loss: 0.3122 - val_loss: 0.3122\n",
            "Epoch 8/30\n",
            "60000/60000 [==============================] - 2s 39us/step - loss: 0.3111 - val_loss: 0.3162\n",
            "Epoch 9/30\n",
            "60000/60000 [==============================] - 2s 39us/step - loss: 0.3103 - val_loss: 0.3118\n",
            "Epoch 10/30\n",
            "60000/60000 [==============================] - 2s 39us/step - loss: 0.3094 - val_loss: 0.3112\n",
            "Epoch 11/30\n",
            "60000/60000 [==============================] - 2s 39us/step - loss: 0.3086 - val_loss: 0.3103\n",
            "Epoch 12/30\n",
            "60000/60000 [==============================] - 2s 39us/step - loss: 0.3080 - val_loss: 0.3082\n",
            "Epoch 13/30\n",
            "60000/60000 [==============================] - 2s 39us/step - loss: 0.3071 - val_loss: 0.3093\n",
            "Epoch 14/30\n",
            "60000/60000 [==============================] - 2s 39us/step - loss: 0.3066 - val_loss: 0.3067\n",
            "Epoch 15/30\n",
            "60000/60000 [==============================] - 2s 39us/step - loss: 0.3058 - val_loss: 0.3094\n",
            "Epoch 16/30\n",
            "60000/60000 [==============================] - 2s 40us/step - loss: 0.3053 - val_loss: 0.3076\n",
            "Epoch 17/30\n",
            "60000/60000 [==============================] - 2s 39us/step - loss: 0.3048 - val_loss: 0.3057\n",
            "Epoch 18/30\n",
            "60000/60000 [==============================] - 2s 39us/step - loss: 0.3043 - val_loss: 0.3047\n",
            "Epoch 19/30\n",
            "60000/60000 [==============================] - 2s 40us/step - loss: 0.3036 - val_loss: 0.3060\n",
            "Epoch 20/30\n",
            "60000/60000 [==============================] - 2s 39us/step - loss: 0.3034 - val_loss: 0.3044\n",
            "Epoch 21/30\n",
            "60000/60000 [==============================] - 2s 39us/step - loss: 0.3027 - val_loss: 0.3057\n",
            "Epoch 22/30\n",
            "60000/60000 [==============================] - 2s 40us/step - loss: 0.3024 - val_loss: 0.3034\n",
            "Epoch 23/30\n",
            "60000/60000 [==============================] - 2s 39us/step - loss: 0.3018 - val_loss: 0.3025\n",
            "Epoch 24/30\n",
            "60000/60000 [==============================] - 2s 39us/step - loss: 0.3014 - val_loss: 0.3033\n",
            "Epoch 25/30\n",
            "60000/60000 [==============================] - 2s 39us/step - loss: 0.3010 - val_loss: 0.3022\n",
            "Epoch 26/30\n",
            "60000/60000 [==============================] - 2s 39us/step - loss: 0.3004 - val_loss: 0.3011\n",
            "Epoch 27/30\n",
            "60000/60000 [==============================] - 2s 40us/step - loss: 0.2998 - val_loss: 0.3049\n",
            "Epoch 28/30\n",
            "60000/60000 [==============================] - 2s 39us/step - loss: 0.2996 - val_loss: 0.3012\n",
            "Epoch 29/30\n",
            "60000/60000 [==============================] - 2s 39us/step - loss: 0.2992 - val_loss: 0.3000\n",
            "Epoch 30/30\n",
            "60000/60000 [==============================] - 2s 39us/step - loss: 0.2989 - val_loss: 0.3008\n"
          ],
          "name": "stdout"
        },
        {
          "output_type": "execute_result",
          "data": {
            "text/plain": [
              "<keras.callbacks.History at 0x7fa279955e10>"
            ]
          },
          "metadata": {
            "tags": []
          },
          "execution_count": 32
        }
      ]
    },
    {
      "metadata": {
        "id": "yfT2AXjFJWs2",
        "colab_type": "code",
        "colab": {}
      },
      "cell_type": "code",
      "source": [
        "# encode and decode some digits\n",
        "# note that we take them from the *test* set\n",
        "encoded_imgs = encoder.predict(x_test)\n",
        "decoded_imgs = decoder.predict(encoded_imgs)"
      ],
      "execution_count": 0,
      "outputs": []
    },
    {
      "metadata": {
        "id": "PwLJrtEEJWv0",
        "colab_type": "code",
        "colab": {
          "base_uri": "https://localhost:8080/",
          "height": 245
        },
        "outputId": "aab4aaab-1785-47c7-e708-d01c3a57b6aa"
      },
      "cell_type": "code",
      "source": [
        "# use Matplotlib (don't ask)\n",
        "import matplotlib.pyplot as plt\n",
        "\n",
        "n = 10  # how many digits we will display\n",
        "plt.figure(figsize=(20, 4))\n",
        "for i in range(n):\n",
        "    # display original\n",
        "    ax = plt.subplot(2, n, i + 1)\n",
        "    plt.imshow(x_test[i].reshape(28, 28))\n",
        "    plt.gray()\n",
        "    ax.get_xaxis().set_visible(False)\n",
        "    ax.get_yaxis().set_visible(False)\n",
        "\n",
        "    # display reconstruction\n",
        "    ax = plt.subplot(2, n, i + 1 + n)\n",
        "    plt.imshow(decoded_imgs[i].reshape(28, 28))\n",
        "    plt.gray()\n",
        "    ax.get_xaxis().set_visible(False)\n",
        "    ax.get_yaxis().set_visible(False)\n",
        "plt.show()"
      ],
      "execution_count": 34,
      "outputs": [
        {
          "output_type": "display_data",
          "data": {
            "image/png": "[encoded data removed]",
            "text/plain": [
              "<matplotlib.figure.Figure at 0x7fa276d0b278>"
            ]
          },
          "metadata": {
            "tags": []
          }
        }
      ]
    },
    {
      "metadata": {
        "id": "v941iTZBNaHt",
        "colab_type": "text"
      },
      "cell_type": "markdown",
      "source": [
        "## Convolutional Autoencoders"
      ]
    },
    {
      "metadata": {
        "id": "Pdfry149JWy2",
        "colab_type": "code",
        "colab": {}
      },
      "cell_type": "code",
      "source": [
        "from keras.layers import Input, Dense, Conv2D, MaxPooling2D, UpSampling2D\n",
        "from keras.models import Model\n",
        "from keras import backend as K\n",
        "\n",
        "input_img = Input(shape=(28, 28, 1))  # adapt this if using `channels_first` image data format\n",
        "\n",
        "x = Conv2D(16, (3, 3), activation='relu', padding='same')(input_img)\n",
        "x = MaxPooling2D((2, 2), padding='same')(x)\n",
        "x = Conv2D(8, (3, 3), activation='relu', padding='same')(x)\n",
        "x = MaxPooling2D((2, 2), padding='same')(x)\n",
        "x = Conv2D(8, (3, 3), activation='relu', padding='same')(x)\n",
        "encoded = MaxPooling2D((2, 2), padding='same')(x)\n",
        "\n",
        "# at this point the representation is (4, 4, 8) i.e. 128-dimensional\n",
        "\n",
        "x = Conv2D(8, (3, 3), activation='relu', padding='same')(encoded)\n",
        "x = UpSampling2D((2, 2))(x)\n",
        "x = Conv2D(8, (3, 3), activation='relu', padding='same')(x)\n",
        "x = UpSampling2D((2, 2))(x)\n",
        "x = Conv2D(16, (3, 3), activation='relu')(x)\n",
        "x = UpSampling2D((2, 2))(x)\n",
        "decoded = Conv2D(1, (3, 3), activation='sigmoid', padding='same')(x)\n",
        "\n",
        "autoencoder = Model(input_img, decoded)\n",
        "autoencoder.compile(optimizer='adadelta', loss='binary_crossentropy')"
      ],
      "execution_count": 0,
      "outputs": []
    },
    {
      "metadata": {
        "id": "JoKdmEJYESf6",
        "colab_type": "code",
        "colab": {}
      },
      "cell_type": "code",
      "source": [
        "# this model maps an input to its encoded representation\n",
        "encoder = Model(input_img, encoded)"
      ],
      "execution_count": 0,
      "outputs": []
    },
    {
      "metadata": {
        "id": "BojqTKW1JW1j",
        "colab_type": "code",
        "colab": {}
      },
      "cell_type": "code",
      "source": [
        "from keras.datasets import mnist\n",
        "from keras.datasets import fashion_mnist\n",
        "import numpy as np\n",
        "#(x_train, _), (x_test, _) = mnist.load_data()\n",
        "(x_train, _), (x_test, _) = fashion_mnist.load_data()\n",
        "\n",
        "x_train = x_train.astype('float32') / 255.\n",
        "x_test = x_test.astype('float32') / 255.\n",
        "x_train = np.reshape(x_train, (len(x_train), 28, 28, 1))  # adapt this if using `channels_first` image data format\n",
        "x_test = np.reshape(x_test, (len(x_test), 28, 28, 1))  # adapt this if using `channels_first` image data format"
      ],
      "execution_count": 0,
      "outputs": []
    },
    {
      "metadata": {
        "id": "pVa0itv5JW4z",
        "colab_type": "code",
        "colab": {
          "base_uri": "https://localhost:8080/",
          "height": 1145
        },
        "outputId": "cd5cb28c-f61d-4d09-f837-5966e8255a71"
      },
      "cell_type": "code",
      "source": [
        "from keras.callbacks import TensorBoard\n",
        "\n",
        "autoencoder.fit(x_train, x_train,\n",
        "                epochs=30,\n",
        "                batch_size=128,\n",
        "                shuffle=True,\n",
        "                validation_data=(x_test, x_test))"
      ],
      "execution_count": 40,
      "outputs": [
        {
          "output_type": "stream",
          "text": [
            "Train on 60000 samples, validate on 10000 samples\n",
            "Epoch 1/30\n",
            "60000/60000 [==============================] - 7s 122us/step - loss: 0.2937 - val_loss: 0.2939\n",
            "Epoch 2/30\n",
            "60000/60000 [==============================] - 7s 122us/step - loss: 0.2928 - val_loss: 0.2980\n",
            "Epoch 3/30\n",
            "60000/60000 [==============================] - 7s 121us/step - loss: 0.2920 - val_loss: 0.2928\n",
            "Epoch 4/30\n",
            "60000/60000 [==============================] - 7s 122us/step - loss: 0.2915 - val_loss: 0.2908\n",
            "Epoch 5/30\n",
            "60000/60000 [==============================] - 7s 121us/step - loss: 0.2909 - val_loss: 0.2927\n",
            "Epoch 6/30\n",
            "60000/60000 [==============================] - 7s 120us/step - loss: 0.2906 - val_loss: 0.2916\n",
            "Epoch 7/30\n",
            "60000/60000 [==============================] - 7s 121us/step - loss: 0.2903 - val_loss: 0.2930\n",
            "Epoch 8/30\n",
            "60000/60000 [==============================] - 7s 121us/step - loss: 0.2896 - val_loss: 0.2914\n",
            "Epoch 9/30\n",
            "60000/60000 [==============================] - 7s 123us/step - loss: 0.2892 - val_loss: 0.2876\n",
            "Epoch 10/30\n",
            "60000/60000 [==============================] - 7s 121us/step - loss: 0.2889 - val_loss: 0.2911\n",
            "Epoch 11/30\n",
            "60000/60000 [==============================] - 7s 121us/step - loss: 0.2881 - val_loss: 0.2906\n",
            "Epoch 12/30\n",
            "60000/60000 [==============================] - 7s 120us/step - loss: 0.2880 - val_loss: 0.2907\n",
            "Epoch 13/30\n",
            "60000/60000 [==============================] - 7s 121us/step - loss: 0.2876 - val_loss: 0.2929\n",
            "Epoch 14/30\n",
            "60000/60000 [==============================] - 7s 121us/step - loss: 0.2874 - val_loss: 0.2924\n",
            "Epoch 15/30\n",
            "60000/60000 [==============================] - 7s 121us/step - loss: 0.2874 - val_loss: 0.2889\n",
            "Epoch 16/30\n",
            "60000/60000 [==============================] - 7s 121us/step - loss: 0.2871 - val_loss: 0.2896\n",
            "Epoch 17/30\n",
            "60000/60000 [==============================] - 7s 121us/step - loss: 0.2868 - val_loss: 0.2876\n",
            "Epoch 18/30\n",
            "60000/60000 [==============================] - 7s 123us/step - loss: 0.2860 - val_loss: 0.2859\n",
            "Epoch 19/30\n",
            "60000/60000 [==============================] - 7s 121us/step - loss: 0.2862 - val_loss: 0.2890\n",
            "Epoch 20/30\n",
            "60000/60000 [==============================] - 7s 120us/step - loss: 0.2862 - val_loss: 0.2873\n",
            "Epoch 21/30\n",
            "60000/60000 [==============================] - 7s 120us/step - loss: 0.2861 - val_loss: 0.2910\n",
            "Epoch 22/30\n",
            "60000/60000 [==============================] - 7s 121us/step - loss: 0.2859 - val_loss: 0.2890\n",
            "Epoch 23/30\n",
            "60000/60000 [==============================] - 7s 120us/step - loss: 0.2860 - val_loss: 0.2868\n",
            "Epoch 24/30\n",
            "60000/60000 [==============================] - 7s 121us/step - loss: 0.2857 - val_loss: 0.2862\n",
            "Epoch 25/30\n",
            "60000/60000 [==============================] - 7s 121us/step - loss: 0.2855 - val_loss: 0.2896\n",
            "Epoch 26/30\n",
            "60000/60000 [==============================] - 7s 122us/step - loss: 0.2853 - val_loss: 0.2863\n",
            "Epoch 27/30\n",
            "60000/60000 [==============================] - 7s 121us/step - loss: 0.2852 - val_loss: 0.2861\n",
            "Epoch 28/30\n",
            "60000/60000 [==============================] - 7s 121us/step - loss: 0.2854 - val_loss: 0.2855\n",
            "Epoch 29/30\n",
            "60000/60000 [==============================] - 7s 122us/step - loss: 0.2850 - val_loss: 0.2874\n",
            "Epoch 30/30\n",
            "60000/60000 [==============================] - 7s 121us/step - loss: 0.2846 - val_loss: 0.2856\n"
          ],
          "name": "stdout"
        },
        {
          "output_type": "execute_result",
          "data": {
            "text/plain": [
              "<keras.callbacks.History at 0x7fa276b70358>"
            ]
          },
          "metadata": {
            "tags": []
          },
          "execution_count": 40
        }
      ]
    },
    {
      "metadata": {
        "id": "MZD5_uvDx6I0",
        "colab_type": "code",
        "colab": {
          "base_uri": "https://localhost:8080/",
          "height": 245
        },
        "outputId": "e86d0da5-094f-46bb-833c-0c89468599fd"
      },
      "cell_type": "code",
      "source": [
        "decoded_imgs = autoencoder.predict(x_test)\n",
        "\n",
        "n = 10\n",
        "plt.figure(figsize=(20, 4))\n",
        "for i in range(1,n):\n",
        "    # display original\n",
        "    ax = plt.subplot(2, n, i)\n",
        "    plt.imshow(x_test[i].reshape(28, 28))\n",
        "    plt.gray()\n",
        "    ax.get_xaxis().set_visible(False)\n",
        "    ax.get_yaxis().set_visible(False)\n",
        "\n",
        "    # display reconstruction\n",
        "    ax = plt.subplot(2, n, i + n)\n",
        "    plt.imshow(decoded_imgs[i].reshape(28, 28))\n",
        "    plt.gray()\n",
        "    ax.get_xaxis().set_visible(False)\n",
        "    ax.get_yaxis().set_visible(False)\n",
        "plt.show()"
      ],
      "execution_count": 41,
      "outputs": [
        {
          "output_type": "display_data",
          "data": {
            "image/png": "[encoded data removed]",
            "text/plain": [
              "<matplotlib.figure.Figure at 0x7fa2774d5e10>"
            ]
          },
          "metadata": {
            "tags": []
          }
        }
      ]
    },
    {
      "metadata": {
        "id": "bbfzOf-CyS2_",
        "colab_type": "text"
      },
      "cell_type": "markdown",
      "source": [
        "We can also have a look at the 128-dimensional encoded representations. These representations are 8x4x4, so we reshape them to 4x32 in order to be able to display them as grayscale images."
      ]
    },
    {
      "metadata": {
        "id": "1auINATJyTmj",
        "colab_type": "code",
        "colab": {
          "base_uri": "https://localhost:8080/",
          "height": 466
        },
        "outputId": "ed22e235-566f-41c7-d85d-d573e933bc91"
      },
      "cell_type": "code",
      "source": [
        "encoded_imgs = encoder.predict(x_test)\n",
        "\n",
        "n = 10\n",
        "plt.figure(figsize=(20, 8))\n",
        "for i in range(1,n):\n",
        "    ax = plt.subplot(1, n, i)\n",
        "    plt.imshow(encoded_imgs[i].reshape(4, 4 * 8).T)\n",
        "    plt.gray()\n",
        "    ax.get_xaxis().set_visible(False)\n",
        "    ax.get_yaxis().set_visible(False)\n",
        "plt.show()"
      ],
      "execution_count": 42,
      "outputs": [
        {
          "output_type": "display_data",
          "data": {
            "image/png": "[encoded data removed]",
            "text/plain": [
              "<matplotlib.figure.Figure at 0x7fa265c66588>"
            ]
          },
          "metadata": {
            "tags": []
          }
        }
      ]
    },
    {
      "metadata": {
        "id": "V7zhBNBxFdH2",
        "colab_type": "text"
      },
      "cell_type": "markdown",
      "source": [
        "## **Application to image denoising:**"
      ]
    },
    {
      "metadata": {
        "id": "0EXNyo2LFaKo",
        "colab_type": "code",
        "colab": {}
      },
      "cell_type": "code",
      "source": [
        "# Synthetic noise added to the images\n",
        "\n",
        "from keras.datasets import mnist\n",
        "from keras.datasets import fashion_mnist\n",
        "import numpy as np\n",
        "#(x_train, _), (x_test, _) = mnist.load_data()\n",
        "(x_train, _), (x_test, _) = fashion_mnist.load_data()\n",
        "\n",
        "x_train = x_train.astype('float32') / 255.\n",
        "x_test = x_test.astype('float32') / 255.\n",
        "x_train = np.reshape(x_train, (len(x_train), 28, 28, 1))  # adapt this if using `channels_first` image data format\n",
        "x_test = np.reshape(x_test, (len(x_test), 28, 28, 1))  # adapt this if using `channels_first` image data format\n",
        "\n",
        "noise_factor = 0.5\n",
        "x_train_noisy = x_train + noise_factor * np.random.normal(loc=0.0, scale=1.0, size=x_train.shape) \n",
        "x_test_noisy = x_test + noise_factor * np.random.normal(loc=0.0, scale=1.0, size=x_test.shape) \n",
        "\n",
        "x_train_noisy = np.clip(x_train_noisy, 0., 1.)\n",
        "x_test_noisy = np.clip(x_test_noisy, 0., 1.)"
      ],
      "execution_count": 0,
      "outputs": []
    },
    {
      "metadata": {
        "id": "QcqWp3KcFaUa",
        "colab_type": "code",
        "colab": {
          "base_uri": "https://localhost:8080/",
          "height": 125
        },
        "outputId": "ebf6a11e-c715-40d8-d2b5-ffc12210462b"
      },
      "cell_type": "code",
      "source": [
        "# Plot the noisy images:\n",
        "n = 10\n",
        "plt.figure(figsize=(20, 2))\n",
        "for i in range(1,n+1):\n",
        "    ax = plt.subplot(1, n, i)\n",
        "    plt.imshow(x_test_noisy[i].reshape(28, 28))\n",
        "    plt.gray()\n",
        "    ax.get_xaxis().set_visible(False)\n",
        "    ax.get_yaxis().set_visible(False)\n",
        "plt.show()"
      ],
      "execution_count": 46,
      "outputs": [
        {
          "output_type": "display_data",
          "data": {
            "image/png": "[encoded data removed]",
            "text/plain": [
              "<matplotlib.figure.Figure at 0x7fa23210add8>"
            ]
          },
          "metadata": {
            "tags": []
          }
        }
      ]
    },
    {
      "metadata": {
        "id": "N6Y4pJlrFaZV",
        "colab_type": "code",
        "colab": {}
      },
      "cell_type": "code",
      "source": [
        "input_img = Input(shape=(28, 28, 1))  # adapt this if using `channels_first` image data format\n",
        "\n",
        "x = Conv2D(32, (3, 3), activation='relu', padding='same')(input_img)\n",
        "x = MaxPooling2D((2, 2), padding='same')(x)\n",
        "x = Conv2D(32, (3, 3), activation='relu', padding='same')(x)\n",
        "encoded = MaxPooling2D((2, 2), padding='same')(x)\n",
        "\n",
        "# at this point the representation is (7, 7, 32)\n",
        "\n",
        "x = Conv2D(32, (3, 3), activation='relu', padding='same')(encoded)\n",
        "x = UpSampling2D((2, 2))(x)\n",
        "x = Conv2D(32, (3, 3), activation='relu', padding='same')(x)\n",
        "x = UpSampling2D((2, 2))(x)\n",
        "decoded = Conv2D(1, (3, 3), activation='sigmoid', padding='same')(x)\n",
        "\n",
        "autoencoder = Model(input_img, decoded)\n",
        "autoencoder.compile(optimizer='adadelta', loss='binary_crossentropy')"
      ],
      "execution_count": 0,
      "outputs": []
    },
    {
      "metadata": {
        "id": "iuniIwFwFads",
        "colab_type": "code",
        "colab": {
          "base_uri": "https://localhost:8080/",
          "height": 781
        },
        "outputId": "38f71fa6-23a4-4de1-a8f3-e4a842968e89"
      },
      "cell_type": "code",
      "source": [
        "autoencoder.fit(x_train_noisy, x_train,\n",
        "                epochs=20,\n",
        "                batch_size=128,\n",
        "                shuffle=True,\n",
        "                validation_data=(x_test_noisy, x_test))"
      ],
      "execution_count": 48,
      "outputs": [
        {
          "output_type": "stream",
          "text": [
            "Train on 60000 samples, validate on 10000 samples\n",
            "Epoch 1/20\n",
            "60000/60000 [==============================] - 9s 145us/step - loss: 0.3606 - val_loss: 0.3258\n",
            "Epoch 2/20\n",
            "60000/60000 [==============================] - 8s 131us/step - loss: 0.3145 - val_loss: 0.3128\n",
            "Epoch 3/20\n",
            "60000/60000 [==============================] - 8s 131us/step - loss: 0.3079 - val_loss: 0.3097\n",
            "Epoch 4/20\n",
            "60000/60000 [==============================] - 8s 132us/step - loss: 0.3049 - val_loss: 0.3036\n",
            "Epoch 5/20\n",
            "60000/60000 [==============================] - 8s 132us/step - loss: 0.3030 - val_loss: 0.3024\n",
            "Epoch 6/20\n",
            "60000/60000 [==============================] - 8s 131us/step - loss: 0.3015 - val_loss: 0.3040\n",
            "Epoch 7/20\n",
            "60000/60000 [==============================] - 8s 131us/step - loss: 0.3002 - val_loss: 0.3014\n",
            "Epoch 8/20\n",
            "60000/60000 [==============================] - 8s 131us/step - loss: 0.2994 - val_loss: 0.3001\n",
            "Epoch 9/20\n",
            "60000/60000 [==============================] - 8s 132us/step - loss: 0.2985 - val_loss: 0.3007\n",
            "Epoch 10/20\n",
            "60000/60000 [==============================] - 8s 131us/step - loss: 0.2977 - val_loss: 0.2987\n",
            "Epoch 11/20\n",
            "60000/60000 [==============================] - 8s 131us/step - loss: 0.2970 - val_loss: 0.2996\n",
            "Epoch 12/20\n",
            "60000/60000 [==============================] - 8s 131us/step - loss: 0.2965 - val_loss: 0.2991\n",
            "Epoch 13/20\n",
            "60000/60000 [==============================] - 8s 132us/step - loss: 0.2960 - val_loss: 0.2977\n",
            "Epoch 14/20\n",
            "60000/60000 [==============================] - 8s 132us/step - loss: 0.2956 - val_loss: 0.2976\n",
            "Epoch 15/20\n",
            "60000/60000 [==============================] - 8s 132us/step - loss: 0.2952 - val_loss: 0.2978\n",
            "Epoch 16/20\n",
            "60000/60000 [==============================] - 8s 131us/step - loss: 0.2948 - val_loss: 0.2972\n",
            "Epoch 17/20\n",
            "60000/60000 [==============================] - 8s 131us/step - loss: 0.2947 - val_loss: 0.2963\n",
            "Epoch 18/20\n",
            "60000/60000 [==============================] - 8s 131us/step - loss: 0.2943 - val_loss: 0.2958\n",
            "Epoch 19/20\n",
            "60000/60000 [==============================] - 8s 132us/step - loss: 0.2941 - val_loss: 0.2955\n",
            "Epoch 20/20\n",
            "60000/60000 [==============================] - 8s 132us/step - loss: 0.2937 - val_loss: 0.2949\n"
          ],
          "name": "stdout"
        },
        {
          "output_type": "execute_result",
          "data": {
            "text/plain": [
              "<keras.callbacks.History at 0x7fa21b79efd0>"
            ]
          },
          "metadata": {
            "tags": []
          },
          "execution_count": 48
        }
      ]
    },
    {
      "metadata": {
        "id": "nnqvwWKSFatH",
        "colab_type": "code",
        "colab": {}
      },
      "cell_type": "code",
      "source": [
        ""
      ],
      "execution_count": 0,
      "outputs": []
    },
    {
      "metadata": {
        "id": "uGeM6nxhFak1",
        "colab_type": "code",
        "colab": {}
      },
      "cell_type": "code",
      "source": [
        ""
      ],
      "execution_count": 0,
      "outputs": []
    }
  ]
}